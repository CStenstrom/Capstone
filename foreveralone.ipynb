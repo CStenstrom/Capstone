{
 "cells": [
  {
   "cell_type": "code",
   "execution_count": 6,
   "id": "70b3827b",
   "metadata": {},
   "outputs": [],
   "source": [
    "import pandas as pd\n",
    "import numpy as np\n",
    "import matplotlib.pyplot as plt\n",
    "import seaborn as sns\n",
    "\n",
    "from capstone_methods import *\n",
    "\n",
    "import warnings\n",
    "warnings.filterwarnings('ignore')"
   ]
  },
  {
   "cell_type": "code",
   "execution_count": 7,
   "id": "8e5cb13f",
   "metadata": {},
   "outputs": [],
   "source": [
    "%matplotlib inline"
   ]
  },
  {
   "cell_type": "code",
   "execution_count": 8,
   "id": "c068f957",
   "metadata": {},
   "outputs": [],
   "source": [
    "pd.set_option('display.max_columns', 200)\n",
    "pd.set_option('display.max_rows', 200)"
   ]
  },
  {
   "cell_type": "code",
   "execution_count": 9,
   "id": "0c0381fe",
   "metadata": {},
   "outputs": [],
   "source": [
    "file = r\"C:\\Users\\cstens4\\Desktop\\Code\\Capstone\\Excel Files\\foreveralone.xlsx\"\n",
    "df = pd.read_excel(file, 'Sheet1')"
   ]
  },
  {
   "cell_type": "code",
   "execution_count": 10,
   "id": "d3a17f5e",
   "metadata": {},
   "outputs": [],
   "source": [
    "df_org = df.copy()"
   ]
  },
  {
   "cell_type": "markdown",
   "id": "587023e6",
   "metadata": {},
   "source": [
    "## Exploratory Data Analysis"
   ]
  },
  {
   "cell_type": "code",
   "execution_count": 11,
   "id": "a10983ce",
   "metadata": {},
   "outputs": [
    {
     "name": "stdout",
     "output_type": "stream",
     "text": [
      "<class 'pandas.core.frame.DataFrame'>\n",
      "RangeIndex: 636 entries, 0 to 635\n",
      "Data columns (total 18 columns):\n",
      " #   Column                 Non-Null Count  Dtype \n",
      "---  ------                 --------------  ----- \n",
      " 0   gender                 636 non-null    object\n",
      " 1   sexuality              636 non-null    object\n",
      " 2   genderSexuality        636 non-null    int64 \n",
      " 3   age                    636 non-null    int64 \n",
      " 4   income                 636 non-null    object\n",
      " 5   race                   636 non-null    object\n",
      " 6   bodyweight             636 non-null    object\n",
      " 7   virgin                 636 non-null    object\n",
      " 8   prostitution_legal     636 non-null    object\n",
      " 9   pay_for_sex            636 non-null    object\n",
      " 10  friends                636 non-null    int64 \n",
      " 11  social_fear            636 non-null    object\n",
      " 12  depressed              636 non-null    object\n",
      " 13  what_help_from_others  636 non-null    object\n",
      " 14  employment             636 non-null    object\n",
      " 15  education              636 non-null    object\n",
      " 16  improve_yourself_how   636 non-null    object\n",
      " 17  attempt_suicide        636 non-null    object\n",
      "dtypes: int64(3), object(15)\n",
      "memory usage: 89.6+ KB\n"
     ]
    }
   ],
   "source": [
    "df.info()"
   ]
  },
  {
   "cell_type": "code",
   "execution_count": 12,
   "id": "dba6955b",
   "metadata": {},
   "outputs": [
    {
     "data": {
      "text/html": [
       "<div>\n",
       "<style scoped>\n",
       "    .dataframe tbody tr th:only-of-type {\n",
       "        vertical-align: middle;\n",
       "    }\n",
       "\n",
       "    .dataframe tbody tr th {\n",
       "        vertical-align: top;\n",
       "    }\n",
       "\n",
       "    .dataframe thead th {\n",
       "        text-align: right;\n",
       "    }\n",
       "</style>\n",
       "<table border=\"1\" class=\"dataframe\">\n",
       "  <thead>\n",
       "    <tr style=\"text-align: right;\">\n",
       "      <th></th>\n",
       "      <th>genderSexuality</th>\n",
       "      <th>age</th>\n",
       "      <th>friends</th>\n",
       "    </tr>\n",
       "  </thead>\n",
       "  <tbody>\n",
       "    <tr>\n",
       "      <th>count</th>\n",
       "      <td>636.000000</td>\n",
       "      <td>636.000000</td>\n",
       "      <td>636.000000</td>\n",
       "    </tr>\n",
       "    <tr>\n",
       "      <th>mean</th>\n",
       "      <td>4.000000</td>\n",
       "      <td>23.963836</td>\n",
       "      <td>5.253145</td>\n",
       "    </tr>\n",
       "    <tr>\n",
       "      <th>std</th>\n",
       "      <td>1.586359</td>\n",
       "      <td>5.934308</td>\n",
       "      <td>5.477836</td>\n",
       "    </tr>\n",
       "    <tr>\n",
       "      <th>min</th>\n",
       "      <td>0.000000</td>\n",
       "      <td>12.000000</td>\n",
       "      <td>0.000000</td>\n",
       "    </tr>\n",
       "    <tr>\n",
       "      <th>25%</th>\n",
       "      <td>2.000000</td>\n",
       "      <td>20.000000</td>\n",
       "      <td>1.000000</td>\n",
       "    </tr>\n",
       "    <tr>\n",
       "      <th>50%</th>\n",
       "      <td>5.000000</td>\n",
       "      <td>23.000000</td>\n",
       "      <td>4.000000</td>\n",
       "    </tr>\n",
       "    <tr>\n",
       "      <th>75%</th>\n",
       "      <td>5.000000</td>\n",
       "      <td>27.000000</td>\n",
       "      <td>7.000000</td>\n",
       "    </tr>\n",
       "    <tr>\n",
       "      <th>max</th>\n",
       "      <td>5.000000</td>\n",
       "      <td>70.000000</td>\n",
       "      <td>40.000000</td>\n",
       "    </tr>\n",
       "  </tbody>\n",
       "</table>\n",
       "</div>"
      ],
      "text/plain": [
       "       genderSexuality         age     friends\n",
       "count       636.000000  636.000000  636.000000\n",
       "mean          4.000000   23.963836    5.253145\n",
       "std           1.586359    5.934308    5.477836\n",
       "min           0.000000   12.000000    0.000000\n",
       "25%           2.000000   20.000000    1.000000\n",
       "50%           5.000000   23.000000    4.000000\n",
       "75%           5.000000   27.000000    7.000000\n",
       "max           5.000000   70.000000   40.000000"
      ]
     },
     "execution_count": 12,
     "metadata": {},
     "output_type": "execute_result"
    }
   ],
   "source": [
    "df.describe()"
   ]
  },
  {
   "cell_type": "code",
   "execution_count": 13,
   "id": "eb2fd321",
   "metadata": {},
   "outputs": [
    {
     "data": {
      "text/html": [
       "<div>\n",
       "<style scoped>\n",
       "    .dataframe tbody tr th:only-of-type {\n",
       "        vertical-align: middle;\n",
       "    }\n",
       "\n",
       "    .dataframe tbody tr th {\n",
       "        vertical-align: top;\n",
       "    }\n",
       "\n",
       "    .dataframe thead th {\n",
       "        text-align: right;\n",
       "    }\n",
       "</style>\n",
       "<table border=\"1\" class=\"dataframe\">\n",
       "  <thead>\n",
       "    <tr style=\"text-align: right;\">\n",
       "      <th></th>\n",
       "      <th>gender</th>\n",
       "      <th>sexuality</th>\n",
       "      <th>genderSexuality</th>\n",
       "      <th>age</th>\n",
       "      <th>income</th>\n",
       "      <th>race</th>\n",
       "      <th>bodyweight</th>\n",
       "      <th>virgin</th>\n",
       "      <th>prostitution_legal</th>\n",
       "      <th>pay_for_sex</th>\n",
       "      <th>friends</th>\n",
       "      <th>social_fear</th>\n",
       "      <th>depressed</th>\n",
       "      <th>what_help_from_others</th>\n",
       "      <th>employment</th>\n",
       "      <th>education</th>\n",
       "      <th>improve_yourself_how</th>\n",
       "      <th>attempt_suicide</th>\n",
       "    </tr>\n",
       "  </thead>\n",
       "  <tbody>\n",
       "    <tr>\n",
       "      <th>0</th>\n",
       "      <td>Male</td>\n",
       "      <td>Straight</td>\n",
       "      <td>5</td>\n",
       "      <td>17</td>\n",
       "      <td>0</td>\n",
       "      <td>White non-Hispanic</td>\n",
       "      <td>Underweight</td>\n",
       "      <td>Yes</td>\n",
       "      <td>No</td>\n",
       "      <td>Yes but I haven't</td>\n",
       "      <td>2</td>\n",
       "      <td>Yes</td>\n",
       "      <td>Yes</td>\n",
       "      <td>wingman/wingwoman, date coaching</td>\n",
       "      <td>A student</td>\n",
       "      <td>High school graduate / GED</td>\n",
       "      <td>Therapy</td>\n",
       "      <td>No</td>\n",
       "    </tr>\n",
       "    <tr>\n",
       "      <th>1</th>\n",
       "      <td>Male</td>\n",
       "      <td>Straight</td>\n",
       "      <td>5</td>\n",
       "      <td>21</td>\n",
       "      <td>0</td>\n",
       "      <td>Mixed Race</td>\n",
       "      <td>Normal weight</td>\n",
       "      <td>Yes</td>\n",
       "      <td>Yes</td>\n",
       "      <td>Yes but I haven't</td>\n",
       "      <td>10</td>\n",
       "      <td>Yes</td>\n",
       "      <td>No</td>\n",
       "      <td>Just want mates that make it look like I fit in</td>\n",
       "      <td>A student</td>\n",
       "      <td>Bachelor's Degree</td>\n",
       "      <td>Joined a gym/go to the gym, join clubs/socual ...</td>\n",
       "      <td>No</td>\n",
       "    </tr>\n",
       "    <tr>\n",
       "      <th>2</th>\n",
       "      <td>Female</td>\n",
       "      <td>Straight</td>\n",
       "      <td>2</td>\n",
       "      <td>22</td>\n",
       "      <td>0</td>\n",
       "      <td>Asian</td>\n",
       "      <td>Normal weight</td>\n",
       "      <td>Yes</td>\n",
       "      <td>Yes</td>\n",
       "      <td>No</td>\n",
       "      <td>0</td>\n",
       "      <td>Yes</td>\n",
       "      <td>Yes</td>\n",
       "      <td>Set me up with a date</td>\n",
       "      <td>Out of work but not currently looking for work</td>\n",
       "      <td>Some college, no degree</td>\n",
       "      <td>Joined a gym/go to the gym</td>\n",
       "      <td>No</td>\n",
       "    </tr>\n",
       "    <tr>\n",
       "      <th>3</th>\n",
       "      <td>Female</td>\n",
       "      <td>Straight</td>\n",
       "      <td>2</td>\n",
       "      <td>23</td>\n",
       "      <td>0</td>\n",
       "      <td>White non-Hispanic</td>\n",
       "      <td>Underweight</td>\n",
       "      <td>Yes</td>\n",
       "      <td>No</td>\n",
       "      <td>No</td>\n",
       "      <td>10</td>\n",
       "      <td>Yes</td>\n",
       "      <td>Yes</td>\n",
       "      <td>I don't want help</td>\n",
       "      <td>Out of work but not currently looking for work</td>\n",
       "      <td>Associate degree</td>\n",
       "      <td>None</td>\n",
       "      <td>No</td>\n",
       "    </tr>\n",
       "    <tr>\n",
       "      <th>4</th>\n",
       "      <td>Female</td>\n",
       "      <td>Straight</td>\n",
       "      <td>2</td>\n",
       "      <td>31</td>\n",
       "      <td>$20,000 to $29,999</td>\n",
       "      <td>White non-Hispanic</td>\n",
       "      <td>Normal weight</td>\n",
       "      <td>No</td>\n",
       "      <td>No</td>\n",
       "      <td>No</td>\n",
       "      <td>4</td>\n",
       "      <td>Yes</td>\n",
       "      <td>Yes</td>\n",
       "      <td>I don't want help</td>\n",
       "      <td>Employed for wages</td>\n",
       "      <td>Some college, no degree</td>\n",
       "      <td>None</td>\n",
       "      <td>No</td>\n",
       "    </tr>\n",
       "    <tr>\n",
       "      <th>5</th>\n",
       "      <td>Female</td>\n",
       "      <td>Gay/Lesbian</td>\n",
       "      <td>1</td>\n",
       "      <td>35</td>\n",
       "      <td>$1 to $10,000</td>\n",
       "      <td>Black</td>\n",
       "      <td>Obese</td>\n",
       "      <td>No</td>\n",
       "      <td>No</td>\n",
       "      <td>No</td>\n",
       "      <td>3</td>\n",
       "      <td>Yes</td>\n",
       "      <td>Yes</td>\n",
       "      <td>wingman/wingwoman, Set me up with a date</td>\n",
       "      <td>Out of work but not currently looking for work</td>\n",
       "      <td>Some college, no degree</td>\n",
       "      <td>Therapy, join clubs/socual clubs/meet ups</td>\n",
       "      <td>No</td>\n",
       "    </tr>\n",
       "    <tr>\n",
       "      <th>6</th>\n",
       "      <td>Male</td>\n",
       "      <td>Straight</td>\n",
       "      <td>5</td>\n",
       "      <td>25</td>\n",
       "      <td>0</td>\n",
       "      <td>White non-Hispanic</td>\n",
       "      <td>Underweight</td>\n",
       "      <td>Yes</td>\n",
       "      <td>No</td>\n",
       "      <td>No</td>\n",
       "      <td>0</td>\n",
       "      <td>Yes</td>\n",
       "      <td>Yes</td>\n",
       "      <td>wingman/wingwoman, Set me up with a date, date...</td>\n",
       "      <td>A student</td>\n",
       "      <td>Some college, no degree</td>\n",
       "      <td>Joined a gym/go to the gym, Therapy, Other exe...</td>\n",
       "      <td>Yes</td>\n",
       "    </tr>\n",
       "    <tr>\n",
       "      <th>7</th>\n",
       "      <td>Male</td>\n",
       "      <td>Straight</td>\n",
       "      <td>5</td>\n",
       "      <td>20</td>\n",
       "      <td>$1 to $10,000</td>\n",
       "      <td>White non-Hispanic</td>\n",
       "      <td>Normal weight</td>\n",
       "      <td>Yes</td>\n",
       "      <td>Yes</td>\n",
       "      <td>No</td>\n",
       "      <td>20</td>\n",
       "      <td>Yes</td>\n",
       "      <td>No</td>\n",
       "      <td>I don't want help</td>\n",
       "      <td>A student</td>\n",
       "      <td>Some college, no degree</td>\n",
       "      <td>Other exercise</td>\n",
       "      <td>No</td>\n",
       "    </tr>\n",
       "    <tr>\n",
       "      <th>8</th>\n",
       "      <td>Male</td>\n",
       "      <td>Straight</td>\n",
       "      <td>5</td>\n",
       "      <td>29</td>\n",
       "      <td>$75,000 or more</td>\n",
       "      <td>Black</td>\n",
       "      <td>Overweight</td>\n",
       "      <td>Yes</td>\n",
       "      <td>No</td>\n",
       "      <td>Yes but I haven't</td>\n",
       "      <td>2</td>\n",
       "      <td>Yes</td>\n",
       "      <td>Yes</td>\n",
       "      <td>not sure what would help</td>\n",
       "      <td>Self-employed</td>\n",
       "      <td>Some college, no degree</td>\n",
       "      <td>Joined a gym/go to the gym, Therapy, Other exe...</td>\n",
       "      <td>Yes</td>\n",
       "    </tr>\n",
       "    <tr>\n",
       "      <th>9</th>\n",
       "      <td>Male</td>\n",
       "      <td>Straight</td>\n",
       "      <td>5</td>\n",
       "      <td>25</td>\n",
       "      <td>0</td>\n",
       "      <td>White non-Hispanic</td>\n",
       "      <td>Normal weight</td>\n",
       "      <td>No</td>\n",
       "      <td>Yes</td>\n",
       "      <td>Yes and I have</td>\n",
       "      <td>7</td>\n",
       "      <td>No</td>\n",
       "      <td>No</td>\n",
       "      <td>I don't want help</td>\n",
       "      <td>A student</td>\n",
       "      <td>High school graduate / GED</td>\n",
       "      <td>Joined a gym/go to the gym, Other exercise</td>\n",
       "      <td>No</td>\n",
       "    </tr>\n",
       "  </tbody>\n",
       "</table>\n",
       "</div>"
      ],
      "text/plain": [
       "   gender    sexuality  genderSexuality  age              income  \\\n",
       "0    Male     Straight                5   17                   0   \n",
       "1    Male     Straight                5   21                   0   \n",
       "2  Female     Straight                2   22                   0   \n",
       "3  Female     Straight                2   23                   0   \n",
       "4  Female     Straight                2   31  $20,000 to $29,999   \n",
       "5  Female  Gay/Lesbian                1   35       $1 to $10,000   \n",
       "6    Male     Straight                5   25                   0   \n",
       "7    Male     Straight                5   20       $1 to $10,000   \n",
       "8    Male     Straight                5   29     $75,000 or more   \n",
       "9    Male     Straight                5   25                   0   \n",
       "\n",
       "                 race     bodyweight virgin prostitution_legal  \\\n",
       "0  White non-Hispanic    Underweight    Yes                 No   \n",
       "1          Mixed Race  Normal weight    Yes                Yes   \n",
       "2               Asian  Normal weight    Yes                Yes   \n",
       "3  White non-Hispanic    Underweight    Yes                 No   \n",
       "4  White non-Hispanic  Normal weight     No                 No   \n",
       "5               Black          Obese     No                 No   \n",
       "6  White non-Hispanic    Underweight    Yes                 No   \n",
       "7  White non-Hispanic  Normal weight    Yes                Yes   \n",
       "8               Black     Overweight    Yes                 No   \n",
       "9  White non-Hispanic  Normal weight     No                Yes   \n",
       "\n",
       "         pay_for_sex  friends social_fear depressed  \\\n",
       "0  Yes but I haven't        2         Yes       Yes   \n",
       "1  Yes but I haven't       10         Yes        No   \n",
       "2                 No        0         Yes       Yes   \n",
       "3                 No       10         Yes       Yes   \n",
       "4                 No        4         Yes       Yes   \n",
       "5                 No        3         Yes       Yes   \n",
       "6                 No        0         Yes       Yes   \n",
       "7                 No       20         Yes        No   \n",
       "8  Yes but I haven't        2         Yes       Yes   \n",
       "9     Yes and I have        7          No        No   \n",
       "\n",
       "                               what_help_from_others  \\\n",
       "0                   wingman/wingwoman, date coaching   \n",
       "1    Just want mates that make it look like I fit in   \n",
       "2                              Set me up with a date   \n",
       "3                                  I don't want help   \n",
       "4                                  I don't want help   \n",
       "5           wingman/wingwoman, Set me up with a date   \n",
       "6  wingman/wingwoman, Set me up with a date, date...   \n",
       "7                                  I don't want help   \n",
       "8                           not sure what would help   \n",
       "9                                  I don't want help   \n",
       "\n",
       "                                       employment                   education  \\\n",
       "0                                       A student  High school graduate / GED   \n",
       "1                                       A student           Bachelor's Degree   \n",
       "2  Out of work but not currently looking for work     Some college, no degree   \n",
       "3  Out of work but not currently looking for work            Associate degree   \n",
       "4                              Employed for wages     Some college, no degree   \n",
       "5  Out of work but not currently looking for work     Some college, no degree   \n",
       "6                                       A student     Some college, no degree   \n",
       "7                                       A student     Some college, no degree   \n",
       "8                                   Self-employed     Some college, no degree   \n",
       "9                                       A student  High school graduate / GED   \n",
       "\n",
       "                                improve_yourself_how attempt_suicide  \n",
       "0                                            Therapy              No  \n",
       "1  Joined a gym/go to the gym, join clubs/socual ...              No  \n",
       "2                         Joined a gym/go to the gym              No  \n",
       "3                                               None              No  \n",
       "4                                               None              No  \n",
       "5          Therapy, join clubs/socual clubs/meet ups              No  \n",
       "6  Joined a gym/go to the gym, Therapy, Other exe...             Yes  \n",
       "7                                     Other exercise              No  \n",
       "8  Joined a gym/go to the gym, Therapy, Other exe...             Yes  \n",
       "9         Joined a gym/go to the gym, Other exercise              No  "
      ]
     },
     "execution_count": 13,
     "metadata": {},
     "output_type": "execute_result"
    }
   ],
   "source": [
    "df.head(10)"
   ]
  },
  {
   "cell_type": "code",
   "execution_count": 14,
   "id": "e2e212bd",
   "metadata": {},
   "outputs": [
    {
     "name": "stdout",
     "output_type": "stream",
     "text": [
      "gender : ['Male', 'Female']\n",
      "\n",
      "sexuality : ['Straight', 'Gay/Lesbian', 'Bisexual']\n",
      "\n",
      "race : ['White non-Hispanic', 'Mixed Race', 'Asian', 'Black', 'Hispanic (of any race)']\n",
      "\n",
      "bodyweight : ['Underweight', 'Normal weight', 'Obese', 'Overweight']\n",
      "\n",
      "employment : ['A student', 'Out of work but not currently looking for work', 'Employed for wages', 'Self-employed', 'Out of work and looking for work', 'Other', 'Unable to work']\n",
      "\n",
      "education : ['High school graduate / GED', \"Bachelor's Degree\", 'Some college, no degree', 'Associate degree', 'Masters Degree or Higher', 'Some high school, no diploma', 'Trade/technical/vocational training']\n",
      "\n"
     ]
    }
   ],
   "source": [
    "columns = ['gender', 'sexuality', 'race', 'bodyweight', 'employment', 'education']\n",
    "\n",
    "for column in columns:\n",
    "    print('{} : {}'.format(column, df[column].unique().tolist()))\n",
    "    print()"
   ]
  },
  {
   "cell_type": "code",
   "execution_count": 15,
   "id": "dccaeaa0",
   "metadata": {},
   "outputs": [
    {
     "name": "stdout",
     "output_type": "stream",
     "text": [
      "Male      472\n",
      "Female    164\n",
      "Name: gender, dtype: int64\n",
      "\n",
      "Straight       556\n",
      "Bisexual        64\n",
      "Gay/Lesbian     16\n",
      "Name: sexuality, dtype: int64\n",
      "\n",
      "White non-Hispanic        462\n",
      "Asian                      67\n",
      "Hispanic (of any race)     47\n",
      "Black                      33\n",
      "Mixed Race                 27\n",
      "Name: race, dtype: int64\n",
      "\n",
      "Normal weight    375\n",
      "Overweight       152\n",
      "Underweight       74\n",
      "Obese             35\n",
      "Name: bodyweight, dtype: int64\n",
      "\n",
      "A student                                         236\n",
      "Employed for wages                                223\n",
      "Out of work and looking for work                   59\n",
      "Out of work but not currently looking for work     53\n",
      "Self-employed                                      27\n",
      "Unable to work                                     26\n",
      "Other                                              12\n",
      "Name: employment, dtype: int64\n",
      "\n",
      "Some college, no degree                193\n",
      "Bachelor's Degree                      155\n",
      "High school graduate / GED             131\n",
      "Some high school, no diploma            68\n",
      "Masters Degree or Higher                42\n",
      "Associate degree                        25\n",
      "Trade/technical/vocational training     22\n",
      "Name: education, dtype: int64\n",
      "\n"
     ]
    }
   ],
   "source": [
    "for column in columns:\n",
    "    print(df[column].value_counts())\n",
    "    print()"
   ]
  },
  {
   "cell_type": "code",
   "execution_count": 16,
   "id": "aa5248cc",
   "metadata": {},
   "outputs": [
    {
     "data": {
      "text/plain": [
       "A student                                         236\n",
       "Employed for wages                                223\n",
       "Out of work and looking for work                   59\n",
       "Out of work but not currently looking for work     53\n",
       "Self-employed                                      27\n",
       "Unable to work                                     26\n",
       "Other                                              12\n",
       "Name: employment, dtype: int64"
      ]
     },
     "execution_count": 16,
     "metadata": {},
     "output_type": "execute_result"
    }
   ],
   "source": [
    "df.employment.value_counts()"
   ]
  },
  {
   "cell_type": "markdown",
   "id": "c052d611",
   "metadata": {},
   "source": [
    "### Encoding Categorical Data\n",
    "\n",
    "#### Ordinal Data:"
   ]
  },
  {
   "cell_type": "code",
   "execution_count": 17,
   "id": "ccb3e989",
   "metadata": {},
   "outputs": [],
   "source": [
    "income_dict = {'$0' : 0,\n",
    "               '$1 to $10,000' : 1,\n",
    "               '$10,000 to $19,999' : 2,\n",
    "               '$20,000 to $29,999' : 3,\n",
    "               '$30,000 to $39,999' : 4,\n",
    "               '$40,000 to $49,999' : 5,\n",
    "               '$50,000 to $74,999' : 6,\n",
    "               '$75,000 or more' : 7\n",
    "              }\n",
    "\n",
    "df.replace({'income' : income_dict}, inplace=True)"
   ]
  },
  {
   "cell_type": "code",
   "execution_count": 18,
   "id": "6de2bb00",
   "metadata": {},
   "outputs": [],
   "source": [
    "edu_dict = {'Some high school, no diploma' : 0,\n",
    "            'High school graduate / GED' : 1,\n",
    "            'Trade/technical/vocational training' : 2,\n",
    "            'Some college, no degree' : 3,\n",
    "            'Associate degree' : 4,\n",
    "            'Bachelor\\'s Degree' : 5,\n",
    "            'Masters Degree or Higher' : 6\n",
    "           }\n",
    "\n",
    "df.replace({'education' : edu_dict}, inplace=True)"
   ]
  },
  {
   "cell_type": "code",
   "execution_count": 19,
   "id": "a89f1956",
   "metadata": {},
   "outputs": [],
   "source": [
    "df['bodyweight'] = df['bodyweight'].map({'Underweight' : 0,\n",
    "                                         'Normal weight' : 1,\n",
    "                                         'Overweight' : 2,\n",
    "                                         'Obese' : 3})"
   ]
  },
  {
   "cell_type": "markdown",
   "id": "8440eb24",
   "metadata": {},
   "source": [
    "#### Nominal Data:"
   ]
  },
  {
   "cell_type": "code",
   "execution_count": 20,
   "id": "cb102a3e",
   "metadata": {},
   "outputs": [],
   "source": [
    "df['gender'] = df['gender'].map({'Male' : 1,\n",
    "                                'Female' : 0})"
   ]
  },
  {
   "cell_type": "code",
   "execution_count": 21,
   "id": "14aa53a6",
   "metadata": {},
   "outputs": [],
   "source": [
    "df['employment'] = df['employment'].astype('category')\n",
    "\n",
    "df['employment'] = df['employment'].cat.codes"
   ]
  },
  {
   "cell_type": "code",
   "execution_count": 22,
   "id": "1cf648df",
   "metadata": {},
   "outputs": [],
   "source": [
    "df['race'] = df['race'].astype('category')\n",
    "df['race'] = df['race'].cat.codes"
   ]
  },
  {
   "cell_type": "code",
   "execution_count": 23,
   "id": "0062eb03",
   "metadata": {},
   "outputs": [],
   "source": [
    "df['sexuality'] = df['sexuality'].astype('category')\n",
    "\n",
    "df['sexuality'] = df['sexuality'].cat.codes"
   ]
  },
  {
   "cell_type": "code",
   "execution_count": 24,
   "id": "b0fbde92",
   "metadata": {},
   "outputs": [],
   "source": [
    "df['pay_for_sex'] = df['pay_for_sex'].map({'No' : 0,\n",
    "                                          'Yes but I haven\\'t' : 1,\n",
    "                                          'Yes and I have' : 2})"
   ]
  },
  {
   "cell_type": "code",
   "execution_count": 25,
   "id": "08db5b5a",
   "metadata": {},
   "outputs": [
    {
     "data": {
      "text/html": [
       "<div>\n",
       "<style scoped>\n",
       "    .dataframe tbody tr th:only-of-type {\n",
       "        vertical-align: middle;\n",
       "    }\n",
       "\n",
       "    .dataframe tbody tr th {\n",
       "        vertical-align: top;\n",
       "    }\n",
       "\n",
       "    .dataframe thead th {\n",
       "        text-align: right;\n",
       "    }\n",
       "</style>\n",
       "<table border=\"1\" class=\"dataframe\">\n",
       "  <thead>\n",
       "    <tr style=\"text-align: right;\">\n",
       "      <th></th>\n",
       "      <th>gender</th>\n",
       "      <th>sexuality</th>\n",
       "      <th>genderSexuality</th>\n",
       "      <th>age</th>\n",
       "      <th>income</th>\n",
       "      <th>race</th>\n",
       "      <th>bodyweight</th>\n",
       "      <th>virgin</th>\n",
       "      <th>prostitution_legal</th>\n",
       "      <th>pay_for_sex</th>\n",
       "      <th>friends</th>\n",
       "      <th>social_fear</th>\n",
       "      <th>depressed</th>\n",
       "      <th>what_help_from_others</th>\n",
       "      <th>employment</th>\n",
       "      <th>education</th>\n",
       "      <th>improve_yourself_how</th>\n",
       "      <th>attempt_suicide</th>\n",
       "    </tr>\n",
       "  </thead>\n",
       "  <tbody>\n",
       "    <tr>\n",
       "      <th>0</th>\n",
       "      <td>1</td>\n",
       "      <td>2</td>\n",
       "      <td>5</td>\n",
       "      <td>17</td>\n",
       "      <td>0</td>\n",
       "      <td>4</td>\n",
       "      <td>0</td>\n",
       "      <td>Yes</td>\n",
       "      <td>No</td>\n",
       "      <td>1</td>\n",
       "      <td>2</td>\n",
       "      <td>Yes</td>\n",
       "      <td>Yes</td>\n",
       "      <td>wingman/wingwoman, date coaching</td>\n",
       "      <td>0</td>\n",
       "      <td>1</td>\n",
       "      <td>Therapy</td>\n",
       "      <td>No</td>\n",
       "    </tr>\n",
       "    <tr>\n",
       "      <th>1</th>\n",
       "      <td>1</td>\n",
       "      <td>2</td>\n",
       "      <td>5</td>\n",
       "      <td>21</td>\n",
       "      <td>0</td>\n",
       "      <td>3</td>\n",
       "      <td>1</td>\n",
       "      <td>Yes</td>\n",
       "      <td>Yes</td>\n",
       "      <td>1</td>\n",
       "      <td>10</td>\n",
       "      <td>Yes</td>\n",
       "      <td>No</td>\n",
       "      <td>Just want mates that make it look like I fit in</td>\n",
       "      <td>0</td>\n",
       "      <td>5</td>\n",
       "      <td>Joined a gym/go to the gym, join clubs/socual ...</td>\n",
       "      <td>No</td>\n",
       "    </tr>\n",
       "    <tr>\n",
       "      <th>2</th>\n",
       "      <td>0</td>\n",
       "      <td>2</td>\n",
       "      <td>2</td>\n",
       "      <td>22</td>\n",
       "      <td>0</td>\n",
       "      <td>0</td>\n",
       "      <td>1</td>\n",
       "      <td>Yes</td>\n",
       "      <td>Yes</td>\n",
       "      <td>0</td>\n",
       "      <td>0</td>\n",
       "      <td>Yes</td>\n",
       "      <td>Yes</td>\n",
       "      <td>Set me up with a date</td>\n",
       "      <td>4</td>\n",
       "      <td>3</td>\n",
       "      <td>Joined a gym/go to the gym</td>\n",
       "      <td>No</td>\n",
       "    </tr>\n",
       "    <tr>\n",
       "      <th>3</th>\n",
       "      <td>0</td>\n",
       "      <td>2</td>\n",
       "      <td>2</td>\n",
       "      <td>23</td>\n",
       "      <td>0</td>\n",
       "      <td>4</td>\n",
       "      <td>0</td>\n",
       "      <td>Yes</td>\n",
       "      <td>No</td>\n",
       "      <td>0</td>\n",
       "      <td>10</td>\n",
       "      <td>Yes</td>\n",
       "      <td>Yes</td>\n",
       "      <td>I don't want help</td>\n",
       "      <td>4</td>\n",
       "      <td>4</td>\n",
       "      <td>None</td>\n",
       "      <td>No</td>\n",
       "    </tr>\n",
       "    <tr>\n",
       "      <th>4</th>\n",
       "      <td>0</td>\n",
       "      <td>2</td>\n",
       "      <td>2</td>\n",
       "      <td>31</td>\n",
       "      <td>3</td>\n",
       "      <td>4</td>\n",
       "      <td>1</td>\n",
       "      <td>No</td>\n",
       "      <td>No</td>\n",
       "      <td>0</td>\n",
       "      <td>4</td>\n",
       "      <td>Yes</td>\n",
       "      <td>Yes</td>\n",
       "      <td>I don't want help</td>\n",
       "      <td>1</td>\n",
       "      <td>3</td>\n",
       "      <td>None</td>\n",
       "      <td>No</td>\n",
       "    </tr>\n",
       "    <tr>\n",
       "      <th>...</th>\n",
       "      <td>...</td>\n",
       "      <td>...</td>\n",
       "      <td>...</td>\n",
       "      <td>...</td>\n",
       "      <td>...</td>\n",
       "      <td>...</td>\n",
       "      <td>...</td>\n",
       "      <td>...</td>\n",
       "      <td>...</td>\n",
       "      <td>...</td>\n",
       "      <td>...</td>\n",
       "      <td>...</td>\n",
       "      <td>...</td>\n",
       "      <td>...</td>\n",
       "      <td>...</td>\n",
       "      <td>...</td>\n",
       "      <td>...</td>\n",
       "      <td>...</td>\n",
       "    </tr>\n",
       "    <tr>\n",
       "      <th>631</th>\n",
       "      <td>1</td>\n",
       "      <td>2</td>\n",
       "      <td>5</td>\n",
       "      <td>19</td>\n",
       "      <td>2</td>\n",
       "      <td>4</td>\n",
       "      <td>2</td>\n",
       "      <td>Yes</td>\n",
       "      <td>No</td>\n",
       "      <td>0</td>\n",
       "      <td>6</td>\n",
       "      <td>Yes</td>\n",
       "      <td>Yes</td>\n",
       "      <td>wingman/wingwoman, Set me up with a date, date...</td>\n",
       "      <td>0</td>\n",
       "      <td>3</td>\n",
       "      <td>Other exercise</td>\n",
       "      <td>No</td>\n",
       "    </tr>\n",
       "    <tr>\n",
       "      <th>632</th>\n",
       "      <td>1</td>\n",
       "      <td>2</td>\n",
       "      <td>5</td>\n",
       "      <td>24</td>\n",
       "      <td>4</td>\n",
       "      <td>4</td>\n",
       "      <td>2</td>\n",
       "      <td>No</td>\n",
       "      <td>No</td>\n",
       "      <td>0</td>\n",
       "      <td>6</td>\n",
       "      <td>No</td>\n",
       "      <td>No</td>\n",
       "      <td>I don't want help</td>\n",
       "      <td>1</td>\n",
       "      <td>3</td>\n",
       "      <td>Other exercise, Joined the US Navy</td>\n",
       "      <td>No</td>\n",
       "    </tr>\n",
       "    <tr>\n",
       "      <th>633</th>\n",
       "      <td>1</td>\n",
       "      <td>2</td>\n",
       "      <td>5</td>\n",
       "      <td>29</td>\n",
       "      <td>2</td>\n",
       "      <td>4</td>\n",
       "      <td>1</td>\n",
       "      <td>Yes</td>\n",
       "      <td>No</td>\n",
       "      <td>1</td>\n",
       "      <td>1</td>\n",
       "      <td>Yes</td>\n",
       "      <td>Yes</td>\n",
       "      <td>Set me up with a date</td>\n",
       "      <td>1</td>\n",
       "      <td>1</td>\n",
       "      <td>Other exercise</td>\n",
       "      <td>No</td>\n",
       "    </tr>\n",
       "    <tr>\n",
       "      <th>634</th>\n",
       "      <td>1</td>\n",
       "      <td>2</td>\n",
       "      <td>5</td>\n",
       "      <td>26</td>\n",
       "      <td>0</td>\n",
       "      <td>4</td>\n",
       "      <td>2</td>\n",
       "      <td>Yes</td>\n",
       "      <td>No</td>\n",
       "      <td>0</td>\n",
       "      <td>3</td>\n",
       "      <td>Yes</td>\n",
       "      <td>No</td>\n",
       "      <td>wingman/wingwoman</td>\n",
       "      <td>4</td>\n",
       "      <td>0</td>\n",
       "      <td>Other exercise</td>\n",
       "      <td>No</td>\n",
       "    </tr>\n",
       "    <tr>\n",
       "      <th>635</th>\n",
       "      <td>0</td>\n",
       "      <td>2</td>\n",
       "      <td>2</td>\n",
       "      <td>23</td>\n",
       "      <td>5</td>\n",
       "      <td>0</td>\n",
       "      <td>1</td>\n",
       "      <td>No</td>\n",
       "      <td>No</td>\n",
       "      <td>0</td>\n",
       "      <td>5</td>\n",
       "      <td>Yes</td>\n",
       "      <td>Yes</td>\n",
       "      <td>I don't want help</td>\n",
       "      <td>3</td>\n",
       "      <td>5</td>\n",
       "      <td>Joined a gym/go to the gym</td>\n",
       "      <td>Yes</td>\n",
       "    </tr>\n",
       "  </tbody>\n",
       "</table>\n",
       "<p>636 rows × 18 columns</p>\n",
       "</div>"
      ],
      "text/plain": [
       "     gender  sexuality  genderSexuality  age  income  race  bodyweight virgin  \\\n",
       "0         1          2                5   17       0     4           0    Yes   \n",
       "1         1          2                5   21       0     3           1    Yes   \n",
       "2         0          2                2   22       0     0           1    Yes   \n",
       "3         0          2                2   23       0     4           0    Yes   \n",
       "4         0          2                2   31       3     4           1     No   \n",
       "..      ...        ...              ...  ...     ...   ...         ...    ...   \n",
       "631       1          2                5   19       2     4           2    Yes   \n",
       "632       1          2                5   24       4     4           2     No   \n",
       "633       1          2                5   29       2     4           1    Yes   \n",
       "634       1          2                5   26       0     4           2    Yes   \n",
       "635       0          2                2   23       5     0           1     No   \n",
       "\n",
       "    prostitution_legal  pay_for_sex  friends social_fear depressed  \\\n",
       "0                   No            1        2         Yes       Yes   \n",
       "1                  Yes            1       10         Yes        No   \n",
       "2                  Yes            0        0         Yes       Yes   \n",
       "3                   No            0       10         Yes       Yes   \n",
       "4                   No            0        4         Yes       Yes   \n",
       "..                 ...          ...      ...         ...       ...   \n",
       "631                 No            0        6         Yes       Yes   \n",
       "632                 No            0        6          No        No   \n",
       "633                 No            1        1         Yes       Yes   \n",
       "634                 No            0        3         Yes        No   \n",
       "635                 No            0        5         Yes       Yes   \n",
       "\n",
       "                                 what_help_from_others  employment  education  \\\n",
       "0                     wingman/wingwoman, date coaching           0          1   \n",
       "1      Just want mates that make it look like I fit in           0          5   \n",
       "2                                Set me up with a date           4          3   \n",
       "3                                    I don't want help           4          4   \n",
       "4                                    I don't want help           1          3   \n",
       "..                                                 ...         ...        ...   \n",
       "631  wingman/wingwoman, Set me up with a date, date...           0          3   \n",
       "632                                  I don't want help           1          3   \n",
       "633                              Set me up with a date           1          1   \n",
       "634                                  wingman/wingwoman           4          0   \n",
       "635                                  I don't want help           3          5   \n",
       "\n",
       "                                  improve_yourself_how attempt_suicide  \n",
       "0                                              Therapy              No  \n",
       "1    Joined a gym/go to the gym, join clubs/socual ...              No  \n",
       "2                           Joined a gym/go to the gym              No  \n",
       "3                                                 None              No  \n",
       "4                                                 None              No  \n",
       "..                                                 ...             ...  \n",
       "631                                     Other exercise              No  \n",
       "632                 Other exercise, Joined the US Navy              No  \n",
       "633                                     Other exercise              No  \n",
       "634                                     Other exercise              No  \n",
       "635                         Joined a gym/go to the gym             Yes  \n",
       "\n",
       "[636 rows x 18 columns]"
      ]
     },
     "execution_count": 25,
     "metadata": {},
     "output_type": "execute_result"
    }
   ],
   "source": [
    "df"
   ]
  },
  {
   "cell_type": "markdown",
   "id": "683525f1",
   "metadata": {},
   "source": [
    "#### Other Data:\n",
    "\n",
    "The formatting of this column is not great from an analytic point of view.  The option to check off as many or as few options that apply leaves many single values.  To work with this, I'm going to break it down into how many things a person has done to try and improve themselves, if any at all."
   ]
  },
  {
   "cell_type": "code",
   "execution_count": 26,
   "id": "aa85aab2",
   "metadata": {},
   "outputs": [],
   "source": [
    "df['total_improves'] = df['improve_yourself_how'].str.split(',').apply(lambda x: len([i for i in x if i != 'None'])) "
   ]
  },
  {
   "cell_type": "markdown",
   "id": "65232146",
   "metadata": {},
   "source": [
    "---"
   ]
  },
  {
   "cell_type": "code",
   "execution_count": 27,
   "id": "b17d513e",
   "metadata": {},
   "outputs": [],
   "source": [
    "df = df[df['friends'] <= 20]\n",
    "df['friends'] = df['friends'].astype('int')"
   ]
  },
  {
   "cell_type": "code",
   "execution_count": 28,
   "id": "c04e8976",
   "metadata": {},
   "outputs": [],
   "source": [
    "def sort_friends(x):\n",
    "    if 0 <= x < 5:\n",
    "        return 0\n",
    "    if 5 <= x < 10:\n",
    "        return 1\n",
    "    if 10 <= x < 15:\n",
    "        return 2\n",
    "    if 15 <= x < 20:\n",
    "        return 3\n",
    "    if x >= 20:\n",
    "        return 4"
   ]
  },
  {
   "cell_type": "code",
   "execution_count": 29,
   "id": "3e78a7c8",
   "metadata": {},
   "outputs": [],
   "source": [
    "# df['friend_bin'] = df['friends'].apply(sort_friends)"
   ]
  },
  {
   "cell_type": "markdown",
   "id": "8b4e863f",
   "metadata": {},
   "source": [
    "---"
   ]
  },
  {
   "cell_type": "markdown",
   "id": "37914f91",
   "metadata": {},
   "source": [
    "Because of formatting issues from the column what_help_from_others, I created a column that distinguished between whether the respondent was open to help from those in their life."
   ]
  },
  {
   "cell_type": "code",
   "execution_count": 30,
   "id": "8bc0c8e6",
   "metadata": {},
   "outputs": [],
   "source": [
    "def help_or_no(x):\n",
    "    '''\n",
    "    INPUT: One value from the column what help from others\n",
    "    OUTPUT: 0 if response was I dont want help\n",
    "            1 if response included any combination of items signaling desire of external help from others\n",
    "    '''\n",
    "    \n",
    "    if x == 'I don\\'t want help':\n",
    "        return 0\n",
    "    else:\n",
    "        return 1\n",
    "    "
   ]
  },
  {
   "cell_type": "code",
   "execution_count": 31,
   "id": "abcf4353",
   "metadata": {},
   "outputs": [],
   "source": [
    "df['open_to_help'] = df['what_help_from_others'].apply(help_or_no)"
   ]
  },
  {
   "cell_type": "markdown",
   "id": "f1a2b36e",
   "metadata": {},
   "source": [
    "---"
   ]
  },
  {
   "cell_type": "code",
   "execution_count": 32,
   "id": "a0a62ab3",
   "metadata": {},
   "outputs": [],
   "source": [
    "df = df[df['age'] <= 45]"
   ]
  },
  {
   "cell_type": "code",
   "execution_count": 33,
   "id": "a193cf5c",
   "metadata": {},
   "outputs": [],
   "source": [
    "def sort_age(x):\n",
    "    if 0 <= x <= 19:\n",
    "        return 0\n",
    "    elif 20 <= x <= 39:\n",
    "        return 1\n",
    "    elif x >= 40:\n",
    "        return 2"
   ]
  },
  {
   "cell_type": "code",
   "execution_count": 34,
   "id": "4cc73b5d",
   "metadata": {},
   "outputs": [],
   "source": [
    "# df['age_bin'] = df['age'].apply(sort_age)"
   ]
  },
  {
   "cell_type": "markdown",
   "id": "0b2acefa",
   "metadata": {},
   "source": [
    "---"
   ]
  },
  {
   "cell_type": "markdown",
   "id": "01128a6f",
   "metadata": {},
   "source": [
    "Encoding the last of the string variables, this will encode the values of columns such as depressed, suicide_attempt, and virgin"
   ]
  },
  {
   "cell_type": "code",
   "execution_count": 35,
   "id": "b3b2e6ae",
   "metadata": {},
   "outputs": [],
   "source": [
    "df.replace({'No' : 0, 'Yes' : 1}, inplace=True)"
   ]
  },
  {
   "cell_type": "code",
   "execution_count": 36,
   "id": "714bd5db",
   "metadata": {},
   "outputs": [],
   "source": [
    "df_binary = df[['gender', 'virgin', 'depressed', 'social_fear', 'attempt_suicide', 'open_to_help']]"
   ]
  },
  {
   "cell_type": "markdown",
   "id": "a19fb464",
   "metadata": {},
   "source": [
    "### Visualizations"
   ]
  },
  {
   "cell_type": "code",
   "execution_count": 37,
   "id": "cd0b5e62",
   "metadata": {},
   "outputs": [
    {
     "data": {
      "text/plain": [
       "<AxesSubplot:xlabel='age', ylabel='count'>"
      ]
     },
     "execution_count": 37,
     "metadata": {},
     "output_type": "execute_result"
    },
    {
     "data": {
      "image/png": "[encoded data removed]",
      "text/plain": [
       "<Figure size 1080x360 with 1 Axes>"
      ]
     },
     "metadata": {
      "needs_background": "light"
     },
     "output_type": "display_data"
    }
   ],
   "source": [
    "plt.figure(figsize=(15,5))\n",
    "sns.countplot('age', data=df)"
   ]
  },
  {
   "cell_type": "code",
   "execution_count": 38,
   "id": "fbbe4500",
   "metadata": {},
   "outputs": [
    {
     "data": {
      "text/plain": [
       "<AxesSubplot:xlabel='income', ylabel='count'>"
      ]
     },
     "execution_count": 38,
     "metadata": {},
     "output_type": "execute_result"
    },
    {
     "data": {
      "image/png": "[encoded data removed]",
      "text/plain": [
       "<Figure size 1080x360 with 1 Axes>"
      ]
     },
     "metadata": {
      "needs_background": "light"
     },
     "output_type": "display_data"
    }
   ],
   "source": [
    "plt.figure(figsize=(15,5))\n",
    "\n",
    "sns.countplot('income', data=df)"
   ]
  },
  {
   "cell_type": "code",
   "execution_count": 39,
   "id": "dbfd24b7",
   "metadata": {},
   "outputs": [
    {
     "data": {
      "text/plain": [
       "<AxesSubplot:xlabel='friends', ylabel='Count'>"
      ]
     },
     "execution_count": 39,
     "metadata": {},
     "output_type": "execute_result"
    },
    {
     "data": {
      "image/png": "[encoded data removed]",
      "text/plain": [
       "<Figure size 1080x360 with 1 Axes>"
      ]
     },
     "metadata": {
      "needs_background": "light"
     },
     "output_type": "display_data"
    }
   ],
   "source": [
    "plt.figure(figsize=(15,5))\n",
    "custom_pal = ['deeppink', 'navy']\n",
    "sns.set_palette(custom_pal)\n",
    "sns.histplot(data=df, x='friends', hue='gender', bins=9)"
   ]
  },
  {
   "cell_type": "code",
   "execution_count": 40,
   "id": "ee78cbf9",
   "metadata": {},
   "outputs": [
    {
     "data": {
      "text/plain": [
       "<AxesSubplot:xlabel='attempt_suicide', ylabel='count'>"
      ]
     },
     "execution_count": 40,
     "metadata": {},
     "output_type": "execute_result"
    },
    {
     "data": {
      "image/png": "[encoded data removed]",
      "text/plain": [
       "<Figure size 576x576 with 1 Axes>"
      ]
     },
     "metadata": {
      "needs_background": "light"
     },
     "output_type": "display_data"
    }
   ],
   "source": [
    "plt.figure(figsize=(8,8))\n",
    "sns.countplot('attempt_suicide', hue='gender', data=df)"
   ]
  },
  {
   "cell_type": "code",
   "execution_count": 41,
   "id": "14746f91",
   "metadata": {},
   "outputs": [],
   "source": [
    "df.drop(['what_help_from_others', 'improve_yourself_how'], axis=1, inplace=True)"
   ]
  },
  {
   "cell_type": "markdown",
   "id": "d6b2d534",
   "metadata": {},
   "source": [
    "## Frequency Counts\n",
    "\n",
    "Frequency Count tables are a way to explore the frequency and percentage distribution of categorical variables, and those counts are necessary to obtain for the chi square tests."
   ]
  },
  {
   "cell_type": "markdown",
   "id": "5cd2aa03",
   "metadata": {},
   "source": [
    "## Frequency Tables and Chi Square Tests\n",
    "\n",
    "H0 - There is no association between the variables (Independent) </br>\n",
    "H1 - There is an association between the variables (Dependent) </br>\n",
    "</br>\n",
    "A result as dependent allows us to reject the null hypothesis in saying there is some type of association or relationship between variables.  "
   ]
  },
  {
   "cell_type": "markdown",
   "id": "9d18b7a5",
   "metadata": {},
   "source": [
    "### Gender Relationships\n",
    "\n",
    "**Gender and Depression**"
   ]
  },
  {
   "cell_type": "code",
   "execution_count": 42,
   "id": "efe29eaa",
   "metadata": {},
   "outputs": [
    {
     "name": "stdout",
     "output_type": "stream",
     "text": [
      "gender       0    1\n",
      "depressed          \n",
      "0           61  155\n",
      "1          102  307\n"
     ]
    }
   ],
   "source": [
    "freq_table(df.depressed, df.gender)"
   ]
  },
  {
   "cell_type": "code",
   "execution_count": 43,
   "id": "4021b466",
   "metadata": {},
   "outputs": [
    {
     "name": "stdout",
     "output_type": "stream",
     "text": [
      "P-value is: 0.3712826819469903\n",
      "Chi Statistic is: 0.799367038668654\n",
      "No association\n"
     ]
    }
   ],
   "source": [
    "data = np.array([[61,155], [102,307]])\n",
    "\n",
    "stat = chi_test(data)"
   ]
  },
  {
   "cell_type": "markdown",
   "id": "9592b5a7",
   "metadata": {},
   "source": [
    "**Gender and Sexuality**"
   ]
  },
  {
   "cell_type": "code",
   "execution_count": 44,
   "id": "b1a79be7",
   "metadata": {},
   "outputs": [
    {
     "name": "stdout",
     "output_type": "stream",
     "text": [
      "gender       0    1\n",
      "sexuality          \n",
      "0           37   24\n",
      "1            7    8\n",
      "2          119  430\n"
     ]
    }
   ],
   "source": [
    "freq_table(df.sexuality, df.gender)"
   ]
  },
  {
   "cell_type": "code",
   "execution_count": 45,
   "id": "b81855b0",
   "metadata": {},
   "outputs": [
    {
     "name": "stdout",
     "output_type": "stream",
     "text": [
      "P-value is: 7.41993104448706e-11\n",
      "Chi Statistic is: 46.64853251798842\n",
      "There is an association between variables\n"
     ]
    }
   ],
   "source": [
    "data = np.array([[37, 24], [7, 8], [119, 430]])\n",
    "\n",
    "stat = chi_test(data)"
   ]
  },
  {
   "cell_type": "code",
   "execution_count": 46,
   "id": "9fff5108",
   "metadata": {},
   "outputs": [
    {
     "name": "stdout",
     "output_type": "stream",
     "text": [
      "0.27319892391585565\n",
      "Moderate\n"
     ]
    }
   ],
   "source": [
    "cramerStat(data, stat)"
   ]
  },
  {
   "cell_type": "markdown",
   "id": "be9bc75c",
   "metadata": {},
   "source": [
    "**Gender and Employment**"
   ]
  },
  {
   "cell_type": "code",
   "execution_count": 47,
   "id": "324f8c82",
   "metadata": {},
   "outputs": [
    {
     "name": "stdout",
     "output_type": "stream",
     "text": [
      "employment    0    1  2   3   4   5   6\n",
      "gender                                 \n",
      "0            60   54  3  15  14   6  11\n",
      "1           175  164  8  44  37  19  15\n"
     ]
    }
   ],
   "source": [
    "freq_table(df.gender, df.employment)"
   ]
  },
  {
   "cell_type": "code",
   "execution_count": 48,
   "id": "9438a247",
   "metadata": {},
   "outputs": [
    {
     "name": "stdout",
     "output_type": "stream",
     "text": [
      "P-value is: 0.6889686448284489\n",
      "Chi Statistic is: 3.9091562369535913\n",
      "No association\n"
     ]
    }
   ],
   "source": [
    "data = np.array([[60,54,3,15,14,6,11],[175,164,8,44,37,19,15]])\n",
    "\n",
    "stat = chi_test(data)"
   ]
  },
  {
   "cell_type": "markdown",
   "id": "e7a751cd",
   "metadata": {},
   "source": [
    "**Gender and Race**"
   ]
  },
  {
   "cell_type": "code",
   "execution_count": 49,
   "id": "994484bd",
   "metadata": {},
   "outputs": [
    {
     "name": "stdout",
     "output_type": "stream",
     "text": [
      "race     0   1   2   3    4\n",
      "gender                     \n",
      "0       19  13  15   6  110\n",
      "1       48  20  32  21  341\n"
     ]
    }
   ],
   "source": [
    "freq_table(df.gender, df.race)"
   ]
  },
  {
   "cell_type": "code",
   "execution_count": 50,
   "id": "b6efe413",
   "metadata": {},
   "outputs": [
    {
     "name": "stdout",
     "output_type": "stream",
     "text": [
      "P-value is: 0.2954886482173724\n",
      "Chi Statistic is: 4.921106734907566\n",
      "No association\n"
     ]
    }
   ],
   "source": [
    "data = np.array([[19,13,15,6,110], [48,20,32,21,341]])\n",
    "\n",
    "stat = chi_test(data)"
   ]
  },
  {
   "cell_type": "markdown",
   "id": "2413e355",
   "metadata": {},
   "source": [
    "**Gender and Income**"
   ]
  },
  {
   "cell_type": "code",
   "execution_count": 51,
   "id": "8b6cd5e9",
   "metadata": {},
   "outputs": [
    {
     "name": "stdout",
     "output_type": "stream",
     "text": [
      "income    0    1   2   3   4   5   6   7\n",
      "gender                                  \n",
      "0        55   33  19  21   7   8  17   3\n",
      "1       157  108  58  38  44  11  34  12\n"
     ]
    }
   ],
   "source": [
    "freq_table(df.gender, df.income)"
   ]
  },
  {
   "cell_type": "code",
   "execution_count": 52,
   "id": "c8920b8e",
   "metadata": {},
   "outputs": [
    {
     "name": "stdout",
     "output_type": "stream",
     "text": [
      "P-value is: 0.11367529460224107\n",
      "Chi Statistic is: 11.622539270865056\n",
      "No association\n"
     ]
    }
   ],
   "source": [
    "data = np.array([[55,33,19,21,7,8,17,3], [157,108,58,38,44,11,34,12]])\n",
    "\n",
    "stat = chi_test(data)"
   ]
  },
  {
   "cell_type": "markdown",
   "id": "035d5841",
   "metadata": {},
   "source": [
    "### Depression Relationships\n",
    "\n",
    "**Depression and Social Fear**"
   ]
  },
  {
   "cell_type": "code",
   "execution_count": 53,
   "id": "9c20aba0",
   "metadata": {},
   "outputs": [
    {
     "name": "stdout",
     "output_type": "stream",
     "text": [
      "depressed      0    1\n",
      "social_fear          \n",
      "0            112   88\n",
      "1            104  321\n"
     ]
    }
   ],
   "source": [
    "freq_table(df.social_fear, df.depressed)"
   ]
  },
  {
   "cell_type": "code",
   "execution_count": 54,
   "id": "231f15cb",
   "metadata": {},
   "outputs": [
    {
     "name": "stdout",
     "output_type": "stream",
     "text": [
      "P-value is: 1.0609284096379898e-14\n",
      "Chi Statistic is: 59.779684761706896\n",
      "There is an association between variables\n"
     ]
    }
   ],
   "source": [
    "data = np.array([[112,88],[104,321]])\n",
    "\n",
    "stat = chi_test(data)"
   ]
  },
  {
   "cell_type": "code",
   "execution_count": 55,
   "id": "46ab85a7",
   "metadata": {},
   "outputs": [
    {
     "name": "stdout",
     "output_type": "stream",
     "text": [
      "0.30926929304205264\n",
      "Moderate\n"
     ]
    }
   ],
   "source": [
    "cramerStat(data,stat)"
   ]
  },
  {
   "cell_type": "markdown",
   "id": "982022c4",
   "metadata": {},
   "source": [
    "**Depression and Employment**"
   ]
  },
  {
   "cell_type": "code",
   "execution_count": 56,
   "id": "0973079c",
   "metadata": {},
   "outputs": [
    {
     "name": "stdout",
     "output_type": "stream",
     "text": [
      "employment    0    1  2   3   4   5   6\n",
      "depressed                              \n",
      "0            88   77  5  14  12  14   6\n",
      "1           147  141  6  45  39  11  20\n"
     ]
    }
   ],
   "source": [
    "freq_table(df.depressed, df.employment)"
   ]
  },
  {
   "cell_type": "code",
   "execution_count": 57,
   "id": "fb710dad",
   "metadata": {},
   "outputs": [
    {
     "name": "stdout",
     "output_type": "stream",
     "text": [
      "P-value is: 0.03076764079615199\n",
      "Chi Statistic is: 13.90049640466249\n",
      "There is an association between variables\n"
     ]
    }
   ],
   "source": [
    "data = np.array([[88,77,5,14,12,14,6],[147,141,6,45,39,11,20]])\n",
    "\n",
    "stat = chi_test(data)"
   ]
  },
  {
   "cell_type": "code",
   "execution_count": 58,
   "id": "84e1d84c",
   "metadata": {},
   "outputs": [
    {
     "name": "stdout",
     "output_type": "stream",
     "text": [
      "0.14913347795669485\n",
      "Weak\n"
     ]
    }
   ],
   "source": [
    "cramerStat(data,stat)"
   ]
  },
  {
   "cell_type": "markdown",
   "id": "657fc2bc",
   "metadata": {},
   "source": [
    "**Depression and Bodyweight**"
   ]
  },
  {
   "cell_type": "code",
   "execution_count": 59,
   "id": "133b1733",
   "metadata": {},
   "outputs": [
    {
     "name": "stdout",
     "output_type": "stream",
     "text": [
      "bodyweight   0    1    2   3\n",
      "depressed                   \n",
      "0           21  151   37   7\n",
      "1           51  218  113  27\n"
     ]
    }
   ],
   "source": [
    "freq_table(df.depressed, df.bodyweight)"
   ]
  },
  {
   "cell_type": "code",
   "execution_count": 60,
   "id": "3d9e03cb",
   "metadata": {},
   "outputs": [
    {
     "name": "stdout",
     "output_type": "stream",
     "text": [
      "P-value is: 0.000721937339961243\n",
      "Chi Statistic is: 16.955076933519624\n",
      "There is an association between variables\n"
     ]
    }
   ],
   "source": [
    "data = np.array([[21,151,37,7],[51,218,113,27]])\n",
    "\n",
    "stat = chi_test(data)"
   ]
  },
  {
   "cell_type": "code",
   "execution_count": 61,
   "id": "34edea62",
   "metadata": {},
   "outputs": [
    {
     "name": "stdout",
     "output_type": "stream",
     "text": [
      "0.16470617199616838\n",
      "Weak\n"
     ]
    }
   ],
   "source": [
    "cramerStat(data, stat)"
   ]
  },
  {
   "cell_type": "markdown",
   "id": "e60ce767",
   "metadata": {},
   "source": [
    "**Depression and Education**"
   ]
  },
  {
   "cell_type": "code",
   "execution_count": 62,
   "id": "4f9b1536",
   "metadata": {},
   "outputs": [
    {
     "name": "stdout",
     "output_type": "stream",
     "text": [
      "education   0   1   2    3   4   5   6\n",
      "depressed                             \n",
      "0          20  39   7   62   8  66  14\n",
      "1          47  92  14  130  17  84  25\n"
     ]
    }
   ],
   "source": [
    "freq_table(df.depressed, df.education)"
   ]
  },
  {
   "cell_type": "code",
   "execution_count": 63,
   "id": "55f70f9b",
   "metadata": {},
   "outputs": [
    {
     "name": "stdout",
     "output_type": "stream",
     "text": [
      "P-value is: 0.20695693497503373\n",
      "Chi Statistic is: 8.449940577369247\n",
      "No association\n"
     ]
    }
   ],
   "source": [
    "data = np.array([[20,39,7,62,8,66,14],[47,92,14,130,17,84,25]])\n",
    "\n",
    "stat = chi_test(data)"
   ]
  },
  {
   "cell_type": "markdown",
   "id": "01f8c2c0",
   "metadata": {},
   "source": [
    "### Social Fear Relationships\n",
    "\n",
    "**Social Fear and Income**"
   ]
  },
  {
   "cell_type": "code",
   "execution_count": 64,
   "id": "90005c4a",
   "metadata": {
    "scrolled": true
   },
   "outputs": [
    {
     "name": "stdout",
     "output_type": "stream",
     "text": [
      "income         0    1   2   3   4   5   6   7\n",
      "social_fear                                  \n",
      "0             63   39  24  19  25   8  18   4\n",
      "1            149  102  53  40  26  11  33  11\n"
     ]
    }
   ],
   "source": [
    "freq_table(df.social_fear, df.income)"
   ]
  },
  {
   "cell_type": "code",
   "execution_count": 65,
   "id": "8156b591",
   "metadata": {},
   "outputs": [
    {
     "name": "stdout",
     "output_type": "stream",
     "text": [
      "P-value is: 0.19517108277051468\n",
      "Chi Statistic is: 9.88523235583629\n",
      "No association\n"
     ]
    }
   ],
   "source": [
    "data = np.array([[63,39,24,19,25,8,18,4], [149,102,53,40,26,11,33,11]])\n",
    "\n",
    "stat = chi_test(data)"
   ]
  },
  {
   "cell_type": "markdown",
   "id": "763eb368",
   "metadata": {},
   "source": [
    "**Social Fear and Sexuality**"
   ]
  },
  {
   "cell_type": "code",
   "execution_count": 66,
   "id": "4c675de9",
   "metadata": {},
   "outputs": [
    {
     "name": "stdout",
     "output_type": "stream",
     "text": [
      "social_fear    0    1\n",
      "sexuality            \n",
      "0             15   46\n",
      "1              5   10\n",
      "2            180  369\n"
     ]
    }
   ],
   "source": [
    "freq_table(df.sexuality, df.social_fear)"
   ]
  },
  {
   "cell_type": "code",
   "execution_count": 67,
   "id": "bfe322ff",
   "metadata": {},
   "outputs": [
    {
     "name": "stdout",
     "output_type": "stream",
     "text": [
      "P-value is: 0.4257831343580185\n",
      "Chi Statistic is: 1.7076502732240437\n",
      "No association\n"
     ]
    }
   ],
   "source": [
    "data = np.array([[15,46],[5,10],[180,369]])\n",
    "\n",
    "stat = chi_test(data)"
   ]
  },
  {
   "cell_type": "markdown",
   "id": "5ebec087",
   "metadata": {},
   "source": [
    "## Selecting Data"
   ]
  },
  {
   "cell_type": "markdown",
   "id": "4e127d22",
   "metadata": {},
   "source": [
    "#### Calculating VIF"
   ]
  },
  {
   "cell_type": "code",
   "execution_count": 68,
   "id": "9a135364",
   "metadata": {},
   "outputs": [
    {
     "name": "stdout",
     "output_type": "stream",
     "text": [
      "<class 'pandas.core.frame.DataFrame'>\n",
      "Int64Index: 625 entries, 0 to 635\n",
      "Data columns (total 18 columns):\n",
      " #   Column              Non-Null Count  Dtype\n",
      "---  ------              --------------  -----\n",
      " 0   gender              625 non-null    int64\n",
      " 1   sexuality           625 non-null    int8 \n",
      " 2   genderSexuality     625 non-null    int64\n",
      " 3   age                 625 non-null    int64\n",
      " 4   income              625 non-null    int64\n",
      " 5   race                625 non-null    int8 \n",
      " 6   bodyweight          625 non-null    int64\n",
      " 7   virgin              625 non-null    int64\n",
      " 8   prostitution_legal  625 non-null    int64\n",
      " 9   pay_for_sex         625 non-null    int64\n",
      " 10  friends             625 non-null    int32\n",
      " 11  social_fear         625 non-null    int64\n",
      " 12  depressed           625 non-null    int64\n",
      " 13  employment          625 non-null    int8 \n",
      " 14  education           625 non-null    int64\n",
      " 15  attempt_suicide     625 non-null    int64\n",
      " 16  total_improves      625 non-null    int64\n",
      " 17  open_to_help        625 non-null    int64\n",
      "dtypes: int32(1), int64(14), int8(3)\n",
      "memory usage: 93.7 KB\n"
     ]
    }
   ],
   "source": [
    "df.info()"
   ]
  },
  {
   "cell_type": "code",
   "execution_count": 69,
   "id": "90a9859a",
   "metadata": {},
   "outputs": [],
   "source": [
    "from statsmodels.stats.outliers_influence import variance_inflation_factor\n",
    "\n",
    "def calculate_vif(x):\n",
    "    vif = pd.DataFrame()\n",
    "    vif['variables'] = x.columns\n",
    "    vif['VIF'] = [variance_inflation_factor(x.values, i) for i in range(x.shape[1])]\n",
    "    \n",
    "    return vif"
   ]
  },
  {
   "cell_type": "code",
   "execution_count": 70,
   "id": "099fdc10",
   "metadata": {},
   "outputs": [],
   "source": [
    "from sklearn.model_selection import train_test_split\n",
    "\n",
    "y = df['attempt_suicide']\n",
    "X = df.drop(['attempt_suicide', 'genderSexuality', 'pay_for_sex', 'prostitution_legal', 'virgin'], axis=1)\n",
    "\n",
    "X_train, X_test, y_train, y_test = train_test_split(X, y, random_state = 21, test_size=0.2)"
   ]
  },
  {
   "cell_type": "code",
   "execution_count": 71,
   "id": "f01ea491",
   "metadata": {},
   "outputs": [
    {
     "data": {
      "text/html": [
       "<div>\n",
       "<style scoped>\n",
       "    .dataframe tbody tr th:only-of-type {\n",
       "        vertical-align: middle;\n",
       "    }\n",
       "\n",
       "    .dataframe tbody tr th {\n",
       "        vertical-align: top;\n",
       "    }\n",
       "\n",
       "    .dataframe thead th {\n",
       "        text-align: right;\n",
       "    }\n",
       "</style>\n",
       "<table border=\"1\" class=\"dataframe\">\n",
       "  <thead>\n",
       "    <tr style=\"text-align: right;\">\n",
       "      <th></th>\n",
       "      <th>variables</th>\n",
       "      <th>VIF</th>\n",
       "    </tr>\n",
       "  </thead>\n",
       "  <tbody>\n",
       "    <tr>\n",
       "      <th>0</th>\n",
       "      <td>gender</td>\n",
       "      <td>4.220004</td>\n",
       "    </tr>\n",
       "    <tr>\n",
       "      <th>1</th>\n",
       "      <td>sexuality</td>\n",
       "      <td>9.010055</td>\n",
       "    </tr>\n",
       "    <tr>\n",
       "      <th>2</th>\n",
       "      <td>age</td>\n",
       "      <td>22.167429</td>\n",
       "    </tr>\n",
       "    <tr>\n",
       "      <th>3</th>\n",
       "      <td>income</td>\n",
       "      <td>2.440796</td>\n",
       "    </tr>\n",
       "    <tr>\n",
       "      <th>4</th>\n",
       "      <td>race</td>\n",
       "      <td>5.983338</td>\n",
       "    </tr>\n",
       "    <tr>\n",
       "      <th>5</th>\n",
       "      <td>bodyweight</td>\n",
       "      <td>4.130583</td>\n",
       "    </tr>\n",
       "    <tr>\n",
       "      <th>6</th>\n",
       "      <td>friends</td>\n",
       "      <td>2.313843</td>\n",
       "    </tr>\n",
       "    <tr>\n",
       "      <th>7</th>\n",
       "      <td>social_fear</td>\n",
       "      <td>3.464459</td>\n",
       "    </tr>\n",
       "    <tr>\n",
       "      <th>8</th>\n",
       "      <td>depressed</td>\n",
       "      <td>3.394055</td>\n",
       "    </tr>\n",
       "    <tr>\n",
       "      <th>9</th>\n",
       "      <td>employment</td>\n",
       "      <td>1.903793</td>\n",
       "    </tr>\n",
       "    <tr>\n",
       "      <th>10</th>\n",
       "      <td>education</td>\n",
       "      <td>4.441129</td>\n",
       "    </tr>\n",
       "    <tr>\n",
       "      <th>11</th>\n",
       "      <td>total_improves</td>\n",
       "      <td>2.750064</td>\n",
       "    </tr>\n",
       "    <tr>\n",
       "      <th>12</th>\n",
       "      <td>open_to_help</td>\n",
       "      <td>2.205913</td>\n",
       "    </tr>\n",
       "  </tbody>\n",
       "</table>\n",
       "</div>"
      ],
      "text/plain": [
       "         variables        VIF\n",
       "0           gender   4.220004\n",
       "1        sexuality   9.010055\n",
       "2              age  22.167429\n",
       "3           income   2.440796\n",
       "4             race   5.983338\n",
       "5       bodyweight   4.130583\n",
       "6          friends   2.313843\n",
       "7      social_fear   3.464459\n",
       "8        depressed   3.394055\n",
       "9       employment   1.903793\n",
       "10       education   4.441129\n",
       "11  total_improves   2.750064\n",
       "12    open_to_help   2.205913"
      ]
     },
     "execution_count": 71,
     "metadata": {},
     "output_type": "execute_result"
    }
   ],
   "source": [
    "calculate_vif(X)"
   ]
  },
  {
   "cell_type": "code",
   "execution_count": 73,
   "id": "01a1f1b7",
   "metadata": {},
   "outputs": [],
   "source": [
    "from sklearn.feature_selection import SelectKBest, chi2\n",
    "\n",
    "select = SelectKBest(score_func=chi2, k='all')\n",
    "select.fit_transform(X, y)\n",
    "\n",
    "cols = select.get_support(indices=True)\n",
    "feat_new = df.iloc[:,cols]\n",
    "\n",
    "ln = feat_new.columns.tolist()"
   ]
  },
  {
   "cell_type": "code",
   "execution_count": 74,
   "id": "8b578dcc",
   "metadata": {},
   "outputs": [
    {
     "data": {
      "text/html": [
       "<div>\n",
       "<style scoped>\n",
       "    .dataframe tbody tr th:only-of-type {\n",
       "        vertical-align: middle;\n",
       "    }\n",
       "\n",
       "    .dataframe tbody tr th {\n",
       "        vertical-align: top;\n",
       "    }\n",
       "\n",
       "    .dataframe thead th {\n",
       "        text-align: right;\n",
       "    }\n",
       "</style>\n",
       "<table border=\"1\" class=\"dataframe\">\n",
       "  <thead>\n",
       "    <tr style=\"text-align: right;\">\n",
       "      <th></th>\n",
       "      <th>Var</th>\n",
       "      <th>Score</th>\n",
       "    </tr>\n",
       "  </thead>\n",
       "  <tbody>\n",
       "    <tr>\n",
       "      <th>6</th>\n",
       "      <td>bodyweight</td>\n",
       "      <td>564.018225</td>\n",
       "    </tr>\n",
       "    <tr>\n",
       "      <th>8</th>\n",
       "      <td>prostitution_legal</td>\n",
       "      <td>26.777664</td>\n",
       "    </tr>\n",
       "    <tr>\n",
       "      <th>9</th>\n",
       "      <td>pay_for_sex</td>\n",
       "      <td>21.003494</td>\n",
       "    </tr>\n",
       "    <tr>\n",
       "      <th>11</th>\n",
       "      <td>social_fear</td>\n",
       "      <td>17.921088</td>\n",
       "    </tr>\n",
       "    <tr>\n",
       "      <th>10</th>\n",
       "      <td>friends</td>\n",
       "      <td>11.808265</td>\n",
       "    </tr>\n",
       "    <tr>\n",
       "      <th>7</th>\n",
       "      <td>virgin</td>\n",
       "      <td>5.593957</td>\n",
       "    </tr>\n",
       "    <tr>\n",
       "      <th>5</th>\n",
       "      <td>race</td>\n",
       "      <td>3.930966</td>\n",
       "    </tr>\n",
       "    <tr>\n",
       "      <th>2</th>\n",
       "      <td>genderSexuality</td>\n",
       "      <td>3.517595</td>\n",
       "    </tr>\n",
       "    <tr>\n",
       "      <th>1</th>\n",
       "      <td>sexuality</td>\n",
       "      <td>2.311910</td>\n",
       "    </tr>\n",
       "    <tr>\n",
       "      <th>0</th>\n",
       "      <td>gender</td>\n",
       "      <td>0.518474</td>\n",
       "    </tr>\n",
       "    <tr>\n",
       "      <th>12</th>\n",
       "      <td>depressed</td>\n",
       "      <td>0.194709</td>\n",
       "    </tr>\n",
       "    <tr>\n",
       "      <th>4</th>\n",
       "      <td>income</td>\n",
       "      <td>0.115158</td>\n",
       "    </tr>\n",
       "    <tr>\n",
       "      <th>3</th>\n",
       "      <td>age</td>\n",
       "      <td>0.009645</td>\n",
       "    </tr>\n",
       "  </tbody>\n",
       "</table>\n",
       "</div>"
      ],
      "text/plain": [
       "                   Var       Score\n",
       "6           bodyweight  564.018225\n",
       "8   prostitution_legal   26.777664\n",
       "9          pay_for_sex   21.003494\n",
       "11         social_fear   17.921088\n",
       "10             friends   11.808265\n",
       "7               virgin    5.593957\n",
       "5                 race    3.930966\n",
       "2      genderSexuality    3.517595\n",
       "1            sexuality    2.311910\n",
       "0               gender    0.518474\n",
       "12           depressed    0.194709\n",
       "4               income    0.115158\n",
       "3                  age    0.009645"
      ]
     },
     "execution_count": 74,
     "metadata": {},
     "output_type": "execute_result"
    }
   ],
   "source": [
    "l = select.scores_.tolist()\n",
    "data = {'Var' : ln, 'Score' : l}\n",
    "\n",
    "pd.DataFrame(data).sort_values(by='Score', ascending=False)"
   ]
  },
  {
   "cell_type": "code",
   "execution_count": 69,
   "id": "ff700e0e",
   "metadata": {},
   "outputs": [],
   "source": [
    "def heatmap_data(data, method):\n",
    "    \"\"\"\n",
    "    Takes data passed and determines coorelation, creates mask,\n",
    "    and shows resulting plot\n",
    "    \"\"\"\n",
    "\n",
    "    corr = data.corr(method=method)\n",
    "    mask = np.zeros_like(corr)\n",
    "    mask[np.triu_indices_from(mask)] = True\n",
    "    with sns.axes_style('white'):\n",
    "        f, ax = plt.subplots(figsize=(15,15))\n",
    "        ax = sns.heatmap(corr, mask=mask, annot=True, lw=1, linecolor='white', cmap='viridis')\n",
    "        plt.title('Correlation')\n",
    "        plt.xticks(rotation=60)\n",
    "        plt.yticks(rotation=60)\n",
    "    plt.show()\n",
    "    "
   ]
  },
  {
   "cell_type": "code",
   "execution_count": 70,
   "id": "f22f98df",
   "metadata": {},
   "outputs": [
    {
     "data": {
      "image/png": "[encoded data removed]",
      "text/plain": [
       "<Figure size 1080x1080 with 2 Axes>"
      ]
     },
     "metadata": {},
     "output_type": "display_data"
    }
   ],
   "source": [
    "heatmap_data(X, 'spearman')"
   ]
  },
  {
   "cell_type": "code",
   "execution_count": null,
   "id": "1661789c",
   "metadata": {},
   "outputs": [],
   "source": []
  }
 ],
 "metadata": {
  "kernelspec": {
   "display_name": "Python 3 (ipykernel)",
   "language": "python",
   "name": "python3"
  },
  "language_info": {
   "codemirror_mode": {
    "name": "ipython",
    "version": 3
   },
   "file_extension": ".py",
   "mimetype": "text/x-python",
   "name": "python",
   "nbconvert_exporter": "python",
   "pygments_lexer": "ipython3",
   "version": "3.9.7"
  }
 },
 "nbformat": 4,
 "nbformat_minor": 5
}
